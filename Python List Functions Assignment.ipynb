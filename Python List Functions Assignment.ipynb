{
 "cells": [
  {
   "cell_type": "markdown",
   "id": "c8f80d4d",
   "metadata": {},
   "source": [
    "Q1. What is the syntax for adding an element to a list in Python?"
   ]
  },
  {
   "cell_type": "markdown",
   "id": "b185094b",
   "metadata": {},
   "source": [
    "list_name.append(element)"
   ]
  },
  {
   "cell_type": "markdown",
   "id": "f136fba7",
   "metadata": {},
   "source": [
    "Q2. What is the difference between remove() and pop() functions in Python?"
   ]
  },
  {
   "cell_type": "code",
   "execution_count": 1,
   "id": "183c5c37",
   "metadata": {},
   "outputs": [],
   "source": [
    "l=[1,2,3,4]"
   ]
  },
  {
   "cell_type": "code",
   "execution_count": 2,
   "id": "63d14fc2",
   "metadata": {},
   "outputs": [
    {
     "data": {
      "text/plain": [
       "4"
      ]
     },
     "execution_count": 2,
     "metadata": {},
     "output_type": "execute_result"
    }
   ],
   "source": [
    "# Remove and return item at index (default last).\n",
    "l.pop()"
   ]
  },
  {
   "cell_type": "code",
   "execution_count": 3,
   "id": "9a7f1f3c",
   "metadata": {},
   "outputs": [],
   "source": [
    "l1=[1,2,3,4,5,5,6]"
   ]
  },
  {
   "cell_type": "code",
   "execution_count": 4,
   "id": "86a3dbc9",
   "metadata": {},
   "outputs": [],
   "source": [
    "# Remove first occurrence of value.\n",
    "l1.remove(5)"
   ]
  },
  {
   "cell_type": "code",
   "execution_count": 5,
   "id": "06b8bbad",
   "metadata": {},
   "outputs": [
    {
     "data": {
      "text/plain": [
       "[1, 2, 3, 4, 5, 6]"
      ]
     },
     "execution_count": 5,
     "metadata": {},
     "output_type": "execute_result"
    }
   ],
   "source": [
    "l1"
   ]
  },
  {
   "cell_type": "markdown",
   "id": "84051419",
   "metadata": {},
   "source": [
    "Q3. Write a Python code to sort a list in descending order."
   ]
  },
  {
   "cell_type": "code",
   "execution_count": 7,
   "id": "960c1f0e",
   "metadata": {},
   "outputs": [],
   "source": [
    "l2=[1,3,5,6,4,7,2,9]"
   ]
  },
  {
   "cell_type": "code",
   "execution_count": 8,
   "id": "8eda2e19",
   "metadata": {},
   "outputs": [],
   "source": [
    "l2.sort() #sort the list in ascending order"
   ]
  },
  {
   "cell_type": "code",
   "execution_count": 9,
   "id": "e7f24630",
   "metadata": {},
   "outputs": [
    {
     "data": {
      "text/plain": [
       "[1, 2, 3, 4, 5, 6, 7, 9]"
      ]
     },
     "execution_count": 9,
     "metadata": {},
     "output_type": "execute_result"
    }
   ],
   "source": [
    "l2"
   ]
  },
  {
   "cell_type": "code",
   "execution_count": 10,
   "id": "0e2d910d",
   "metadata": {},
   "outputs": [],
   "source": [
    "l3=[1,3,5,6,4,7,2,9,11,14,12,10]"
   ]
  },
  {
   "cell_type": "code",
   "execution_count": 11,
   "id": "cf7070d8",
   "metadata": {},
   "outputs": [],
   "source": [
    "l3.sort(reverse=True) #sort a list in descending order"
   ]
  },
  {
   "cell_type": "code",
   "execution_count": 12,
   "id": "ae973b23",
   "metadata": {},
   "outputs": [
    {
     "data": {
      "text/plain": [
       "[14, 12, 11, 10, 9, 7, 6, 5, 4, 3, 2, 1]"
      ]
     },
     "execution_count": 12,
     "metadata": {},
     "output_type": "execute_result"
    }
   ],
   "source": [
    "l3"
   ]
  },
  {
   "cell_type": "markdown",
   "id": "981e7743",
   "metadata": {},
   "source": [
    "Q4. Write a Python code to count the number of occurrences of an element in a list."
   ]
  },
  {
   "cell_type": "code",
   "execution_count": 13,
   "id": "0e73b1f2",
   "metadata": {},
   "outputs": [],
   "source": [
    "l4=[1,2,2,3,4,5,6,2,2,7]"
   ]
  },
  {
   "cell_type": "code",
   "execution_count": 16,
   "id": "81f74567",
   "metadata": {},
   "outputs": [
    {
     "data": {
      "text/plain": [
       "4"
      ]
     },
     "execution_count": 16,
     "metadata": {},
     "output_type": "execute_result"
    }
   ],
   "source": [
    "l4.count(2)"
   ]
  },
  {
   "cell_type": "markdown",
   "id": "bb404d9c",
   "metadata": {},
   "source": [
    "Q5. Write a Python code to reverse a list. "
   ]
  },
  {
   "cell_type": "code",
   "execution_count": 17,
   "id": "64a8e6b3",
   "metadata": {},
   "outputs": [],
   "source": [
    "l5=[1,2,3,4,5,6,7,8,9]"
   ]
  },
  {
   "cell_type": "code",
   "execution_count": 18,
   "id": "79c26c62",
   "metadata": {},
   "outputs": [],
   "source": [
    "l5.reverse()"
   ]
  },
  {
   "cell_type": "code",
   "execution_count": 19,
   "id": "6af4d187",
   "metadata": {},
   "outputs": [
    {
     "data": {
      "text/plain": [
       "[9, 8, 7, 6, 5, 4, 3, 2, 1]"
      ]
     },
     "execution_count": 19,
     "metadata": {},
     "output_type": "execute_result"
    }
   ],
   "source": [
    "l5"
   ]
  },
  {
   "cell_type": "code",
   "execution_count": null,
   "id": "8c39f8f4",
   "metadata": {},
   "outputs": [],
   "source": []
  }
 ],
 "metadata": {
  "kernelspec": {
   "display_name": "Python 3 (ipykernel)",
   "language": "python",
   "name": "python3"
  },
  "language_info": {
   "codemirror_mode": {
    "name": "ipython",
    "version": 3
   },
   "file_extension": ".py",
   "mimetype": "text/x-python",
   "name": "python",
   "nbconvert_exporter": "python",
   "pygments_lexer": "ipython3",
   "version": "3.10.9"
  }
 },
 "nbformat": 4,
 "nbformat_minor": 5
}
