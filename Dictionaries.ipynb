{
 "cells": [
  {
   "cell_type": "code",
   "execution_count": 1,
   "id": "a1e57a8c",
   "metadata": {},
   "outputs": [],
   "source": [
    "s={}"
   ]
  },
  {
   "cell_type": "code",
   "execution_count": 2,
   "id": "2918dc13",
   "metadata": {},
   "outputs": [
    {
     "data": {
      "text/plain": [
       "dict"
      ]
     },
     "execution_count": 2,
     "metadata": {},
     "output_type": "execute_result"
    }
   ],
   "source": [
    "type(s)"
   ]
  },
  {
   "cell_type": "code",
   "execution_count": 3,
   "id": "0facebdc",
   "metadata": {},
   "outputs": [],
   "source": [
    "s={2,3,4,5,6,7}"
   ]
  },
  {
   "cell_type": "code",
   "execution_count": 4,
   "id": "8b14898a",
   "metadata": {},
   "outputs": [
    {
     "data": {
      "text/plain": [
       "set"
      ]
     },
     "execution_count": 4,
     "metadata": {},
     "output_type": "execute_result"
    }
   ],
   "source": [
    "type(s)"
   ]
  },
  {
   "cell_type": "code",
   "execution_count": 5,
   "id": "8df3ef6d",
   "metadata": {},
   "outputs": [],
   "source": [
    "d={}"
   ]
  },
  {
   "cell_type": "code",
   "execution_count": 6,
   "id": "dbf5cd9f",
   "metadata": {},
   "outputs": [
    {
     "data": {
      "text/plain": [
       "dict"
      ]
     },
     "execution_count": 6,
     "metadata": {},
     "output_type": "execute_result"
    }
   ],
   "source": [
    "type(d)"
   ]
  },
  {
   "cell_type": "code",
   "execution_count": 7,
   "id": "ad4c05ef",
   "metadata": {},
   "outputs": [],
   "source": [
    "d={'a':1}"
   ]
  },
  {
   "cell_type": "code",
   "execution_count": 10,
   "id": "f4c92a09",
   "metadata": {},
   "outputs": [
    {
     "data": {
      "text/plain": [
       "1"
      ]
     },
     "execution_count": 10,
     "metadata": {},
     "output_type": "execute_result"
    }
   ],
   "source": [
    "d[\"a\"]"
   ]
  },
  {
   "cell_type": "code",
   "execution_count": 9,
   "id": "084b0ea6",
   "metadata": {},
   "outputs": [
    {
     "data": {
      "text/plain": [
       "{'a': 1}"
      ]
     },
     "execution_count": 9,
     "metadata": {},
     "output_type": "execute_result"
    }
   ],
   "source": [
    "d"
   ]
  },
  {
   "cell_type": "code",
   "execution_count": 11,
   "id": "3ecb8eb7",
   "metadata": {},
   "outputs": [],
   "source": [
    "d1={\"name\":\"sudh\"}"
   ]
  },
  {
   "cell_type": "code",
   "execution_count": 12,
   "id": "792807fd",
   "metadata": {},
   "outputs": [
    {
     "data": {
      "text/plain": [
       "'sudh'"
      ]
     },
     "execution_count": 12,
     "metadata": {},
     "output_type": "execute_result"
    }
   ],
   "source": [
    "d1[\"name\"]"
   ]
  },
  {
   "cell_type": "code",
   "execution_count": 13,
   "id": "276d1573",
   "metadata": {},
   "outputs": [],
   "source": [
    "d2={324412:\"sudh\"}"
   ]
  },
  {
   "cell_type": "code",
   "execution_count": 14,
   "id": "92e4f516",
   "metadata": {},
   "outputs": [
    {
     "data": {
      "text/plain": [
       "'sudh'"
      ]
     },
     "execution_count": 14,
     "metadata": {},
     "output_type": "execute_result"
    }
   ],
   "source": [
    "d2[324412]"
   ]
  },
  {
   "cell_type": "code",
   "execution_count": 15,
   "id": "a37d6a2a",
   "metadata": {},
   "outputs": [
    {
     "ename": "NameError",
     "evalue": "name '_324544' is not defined",
     "output_type": "error",
     "traceback": [
      "\u001b[1;31m---------------------------------------------------------------------------\u001b[0m",
      "\u001b[1;31mNameError\u001b[0m                                 Traceback (most recent call last)",
      "Cell \u001b[1;32mIn[15], line 1\u001b[0m\n\u001b[1;32m----> 1\u001b[0m d3\u001b[38;5;241m=\u001b[39m{\u001b[43m_324544\u001b[49m:\u001b[38;5;124m\"\u001b[39m\u001b[38;5;124msudh\u001b[39m\u001b[38;5;124m\"\u001b[39m}\n",
      "\u001b[1;31mNameError\u001b[0m: name '_324544' is not defined"
     ]
    }
   ],
   "source": [
    "d3={_324544:\"sudh\"}"
   ]
  },
  {
   "cell_type": "code",
   "execution_count": 16,
   "id": "4c119d2d",
   "metadata": {},
   "outputs": [
    {
     "ename": "TypeError",
     "evalue": "unhashable type: 'list'",
     "output_type": "error",
     "traceback": [
      "\u001b[1;31m---------------------------------------------------------------------------\u001b[0m",
      "\u001b[1;31mTypeError\u001b[0m                                 Traceback (most recent call last)",
      "Cell \u001b[1;32mIn[16], line 1\u001b[0m\n\u001b[1;32m----> 1\u001b[0m d4\u001b[38;5;241m=\u001b[39m{[\u001b[38;5;241m1\u001b[39m,\u001b[38;5;241m2\u001b[39m,\u001b[38;5;241m3\u001b[39m]:\u001b[38;5;124m\"\u001b[39m\u001b[38;5;124msudh\u001b[39m\u001b[38;5;124m\"\u001b[39m}\n",
      "\u001b[1;31mTypeError\u001b[0m: unhashable type: 'list'"
     ]
    }
   ],
   "source": [
    "d4={[1,2,3]:\"sudh\"}"
   ]
  },
  {
   "cell_type": "code",
   "execution_count": 17,
   "id": "0e8999a2",
   "metadata": {},
   "outputs": [],
   "source": [
    "d5={(1,2,3):\"sudh\"}"
   ]
  },
  {
   "cell_type": "code",
   "execution_count": 18,
   "id": "cbefb40a",
   "metadata": {},
   "outputs": [
    {
     "data": {
      "text/plain": [
       "'sudh'"
      ]
     },
     "execution_count": 18,
     "metadata": {},
     "output_type": "execute_result"
    }
   ],
   "source": [
    "d5[(1,2,3)]"
   ]
  },
  {
   "cell_type": "code",
   "execution_count": 19,
   "id": "1c4ec1b2",
   "metadata": {},
   "outputs": [
    {
     "data": {
      "text/plain": [
       "{(1, 2, 3): 'sudh'}"
      ]
     },
     "execution_count": 19,
     "metadata": {},
     "output_type": "execute_result"
    }
   ],
   "source": [
    "d5"
   ]
  },
  {
   "cell_type": "code",
   "execution_count": 21,
   "id": "102e04f6",
   "metadata": {},
   "outputs": [
    {
     "ename": "TypeError",
     "evalue": "unhashable type: 'set'",
     "output_type": "error",
     "traceback": [
      "\u001b[1;31m---------------------------------------------------------------------------\u001b[0m",
      "\u001b[1;31mTypeError\u001b[0m                                 Traceback (most recent call last)",
      "Cell \u001b[1;32mIn[21], line 1\u001b[0m\n\u001b[1;32m----> 1\u001b[0m d6\u001b[38;5;241m=\u001b[39m{{\u001b[38;5;241m1\u001b[39m,\u001b[38;5;241m2\u001b[39m,\u001b[38;5;241m3\u001b[39m}:\u001b[38;5;124m\"\u001b[39m\u001b[38;5;124msudh\u001b[39m\u001b[38;5;124m\"\u001b[39m}\n",
      "\u001b[1;31mTypeError\u001b[0m: unhashable type: 'set'"
     ]
    }
   ],
   "source": [
    "d6={{1,2,3}:\"sudh\"}"
   ]
  },
  {
   "cell_type": "code",
   "execution_count": 22,
   "id": "3f8aca94",
   "metadata": {},
   "outputs": [],
   "source": [
    "d7={True:\"sudh\"}"
   ]
  },
  {
   "cell_type": "code",
   "execution_count": 24,
   "id": "5191cee8",
   "metadata": {},
   "outputs": [
    {
     "ename": "TypeError",
     "evalue": "unhashable type: 'dict'",
     "output_type": "error",
     "traceback": [
      "\u001b[1;31m---------------------------------------------------------------------------\u001b[0m",
      "\u001b[1;31mTypeError\u001b[0m                                 Traceback (most recent call last)",
      "Cell \u001b[1;32mIn[24], line 1\u001b[0m\n\u001b[1;32m----> 1\u001b[0m d8\u001b[38;5;241m=\u001b[39m{{\u001b[38;5;241m434\u001b[39m:\u001b[38;5;124m\"\u001b[39m\u001b[38;5;124mkumar\u001b[39m\u001b[38;5;124m\"\u001b[39m}:\u001b[38;5;124m\"\u001b[39m\u001b[38;5;124msudh\u001b[39m\u001b[38;5;124m\"\u001b[39m}\n",
      "\u001b[1;31mTypeError\u001b[0m: unhashable type: 'dict'"
     ]
    }
   ],
   "source": [
    "d8={{434:\"kumar\"}:\"sudh\"}"
   ]
  },
  {
   "cell_type": "code",
   "execution_count": 25,
   "id": "2cd79bd8",
   "metadata": {},
   "outputs": [],
   "source": [
    "d9={\"name\":\"sudh\",\"name\":\"pwskills\"}"
   ]
  },
  {
   "cell_type": "code",
   "execution_count": 26,
   "id": "2fc95269",
   "metadata": {},
   "outputs": [
    {
     "data": {
      "text/plain": [
       "{'name': 'pwskills'}"
      ]
     },
     "execution_count": 26,
     "metadata": {},
     "output_type": "execute_result"
    }
   ],
   "source": [
    "d9"
   ]
  },
  {
   "cell_type": "code",
   "execution_count": 27,
   "id": "8fb9de1c",
   "metadata": {},
   "outputs": [],
   "source": [
    "d10 = {\"name\" :\"sudh\" , \"email_id\" : \"sudh@gmail.com\" , \"subject\" : ['DSM' , 'big data' , ' data analytics', 'programing']  }"
   ]
  },
  {
   "cell_type": "code",
   "execution_count": 28,
   "id": "55e8a8fe",
   "metadata": {},
   "outputs": [
    {
     "data": {
      "text/plain": [
       "{'name': 'sudh',\n",
       " 'email_id': 'sudh@gmail.com',\n",
       " 'subject': ['DSM', 'big data', ' data analytics', 'programing']}"
      ]
     },
     "execution_count": 28,
     "metadata": {},
     "output_type": "execute_result"
    }
   ],
   "source": [
    "d10"
   ]
  },
  {
   "cell_type": "code",
   "execution_count": 31,
   "id": "c7d9ee5e",
   "metadata": {},
   "outputs": [
    {
     "data": {
      "text/plain": [
       "True"
      ]
     },
     "execution_count": 31,
     "metadata": {},
     "output_type": "execute_result"
    }
   ],
   "source": [
    "'DSM' in d10['subject']"
   ]
  },
  {
   "cell_type": "code",
   "execution_count": 32,
   "id": "160cb06d",
   "metadata": {},
   "outputs": [
    {
     "data": {
      "text/plain": [
       "'big data'"
      ]
     },
     "execution_count": 32,
     "metadata": {},
     "output_type": "execute_result"
    }
   ],
   "source": [
    "d10[\"subject\"][1]"
   ]
  },
  {
   "cell_type": "code",
   "execution_count": 35,
   "id": "ea6fe621",
   "metadata": {},
   "outputs": [],
   "source": [
    "d11 = {\"name\" :\"pwskills\" , \"email_id\" : \"support@pwskills.com\" , \"subject\" : ['DSM' , 'big data' , ' data analytics', 'programing'] \n",
    "     \n",
    "     ,'batches' : ('DSM' , 'JDS' , 'FSWD'),\n",
    "      'Mentor' : {'sudhanshu' , 'krish' , 'vishwamohan' , 'sanket' , 'hyder','nitin','vishwamohan' , 'anurag', 'hitesh' },\n",
    "      'date' : {'FSDS' : \"29th April'23\" , \"DSM\" : \"6th May'23\" , \"JDS\":\"13th May'23\"}\n",
    "     \n",
    "     }"
   ]
  },
  {
   "cell_type": "code",
   "execution_count": 36,
   "id": "5cd7bb39",
   "metadata": {},
   "outputs": [
    {
     "data": {
      "text/plain": [
       "{'name': 'pwskills',\n",
       " 'email_id': 'support@pwskills.com',\n",
       " 'subject': ['DSM', 'big data', ' data analytics', 'programing'],\n",
       " 'batches': ('DSM', 'JDS', 'FSWD'),\n",
       " 'Mentor': {'anurag',\n",
       "  'hitesh',\n",
       "  'hyder',\n",
       "  'krish',\n",
       "  'nitin',\n",
       "  'sanket',\n",
       "  'sudhanshu',\n",
       "  'vishwamohan'},\n",
       " 'date': {'FSDS': \"29th April'23\", 'DSM': \"6th May'23\", 'JDS': \"13th May'23\"}}"
      ]
     },
     "execution_count": 36,
     "metadata": {},
     "output_type": "execute_result"
    }
   ],
   "source": [
    "d11"
   ]
  },
  {
   "cell_type": "code",
   "execution_count": 38,
   "id": "226437dc",
   "metadata": {},
   "outputs": [
    {
     "data": {
      "text/plain": [
       "dict"
      ]
     },
     "execution_count": 38,
     "metadata": {},
     "output_type": "execute_result"
    }
   ],
   "source": [
    "type(d11[\"date\"])"
   ]
  },
  {
   "cell_type": "code",
   "execution_count": 39,
   "id": "56aaf7d8",
   "metadata": {},
   "outputs": [
    {
     "data": {
      "text/plain": [
       "\"6th May'23\""
      ]
     },
     "execution_count": 39,
     "metadata": {},
     "output_type": "execute_result"
    }
   ],
   "source": [
    "d11[\"date\"]['DSM']"
   ]
  },
  {
   "cell_type": "code",
   "execution_count": 40,
   "id": "10fe0e17",
   "metadata": {},
   "outputs": [],
   "source": [
    "d11[\"batch name\"]=\"BINARY 2.0\""
   ]
  },
  {
   "cell_type": "code",
   "execution_count": 41,
   "id": "ed7a6c55",
   "metadata": {},
   "outputs": [
    {
     "data": {
      "text/plain": [
       "{'name': 'pwskills',\n",
       " 'email_id': 'support@pwskills.com',\n",
       " 'subject': ['DSM', 'big data', ' data analytics', 'programing'],\n",
       " 'batches': ('DSM', 'JDS', 'FSWD'),\n",
       " 'Mentor': {'anurag',\n",
       "  'hitesh',\n",
       "  'hyder',\n",
       "  'krish',\n",
       "  'nitin',\n",
       "  'sanket',\n",
       "  'sudhanshu',\n",
       "  'vishwamohan'},\n",
       " 'date': {'FSDS': \"29th April'23\", 'DSM': \"6th May'23\", 'JDS': \"13th May'23\"},\n",
       " 'batch name': 'BINARY 2.0'}"
      ]
     },
     "execution_count": 41,
     "metadata": {},
     "output_type": "execute_result"
    }
   ],
   "source": [
    "d11"
   ]
  },
  {
   "cell_type": "code",
   "execution_count": null,
   "id": "a6f25398",
   "metadata": {},
   "outputs": [],
   "source": [
    "d11[\"email_id\"]='su@pwskills'"
   ]
  }
 ],
 "metadata": {
  "kernelspec": {
   "display_name": "Python 3 (ipykernel)",
   "language": "python",
   "name": "python3"
  },
  "language_info": {
   "codemirror_mode": {
    "name": "ipython",
    "version": 3
   },
   "file_extension": ".py",
   "mimetype": "text/x-python",
   "name": "python",
   "nbconvert_exporter": "python",
   "pygments_lexer": "ipython3",
   "version": "3.10.9"
  }
 },
 "nbformat": 4,
 "nbformat_minor": 5
}
