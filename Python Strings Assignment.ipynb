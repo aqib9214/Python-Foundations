{
 "cells": [
  {
   "cell_type": "markdown",
   "id": "02cc4cb2",
   "metadata": {},
   "source": [
    "Q1. How can we store a single quote (‘) as a string in a variable? "
   ]
  },
  {
   "cell_type": "code",
   "execution_count": 1,
   "id": "fc0b1a14",
   "metadata": {},
   "outputs": [
    {
     "name": "stdout",
     "output_type": "stream",
     "text": [
      "'\n"
     ]
    }
   ],
   "source": [
    "single_quote_as_a_string = \"'\"\n",
    "print(single_quote_as_a_string)\n",
    "\n",
    "# you can enclose the single quote within double quotes (\"\") to represent it as a string."
   ]
  },
  {
   "cell_type": "markdown",
   "id": "485a3bcd",
   "metadata": {},
   "source": [
    "Q2. Refer the below variable:\n",
    "x = 'a'\n",
    "Here, is x a character type or string type variable? Support your answer with an explanation."
   ]
  },
  {
   "cell_type": "code",
   "execution_count": 2,
   "id": "53fdf2c1",
   "metadata": {},
   "outputs": [
    {
     "data": {
      "text/plain": [
       "str"
      ]
     },
     "execution_count": 2,
     "metadata": {},
     "output_type": "execute_result"
    }
   ],
   "source": [
    "x='a'\n",
    "type(x)"
   ]
  },
  {
   "cell_type": "code",
   "execution_count": 3,
   "id": "5bc54ac8",
   "metadata": {},
   "outputs": [],
   "source": [
    "#In Python, any sequence of characters enclosed in single quotes ('') or double quotes (\"\") is considered a string.\n",
    "#In this case, the value assigned to x is 'a', which represents a string containing a single character, 'a'."
   ]
  },
  {
   "cell_type": "markdown",
   "id": "d3be8c57",
   "metadata": {},
   "source": [
    "Q3. Apply the following functions on this variable: ‘Welcome to Python foundation course'\n",
    "1. find ()\n",
    "2. count()\n",
    "3. len()\n",
    "4. Concatenation\n",
    "\n",
    "Note: You can use your choice of parameters. But make sure it is correct."
   ]
  },
  {
   "cell_type": "code",
   "execution_count": 4,
   "id": "73edba94",
   "metadata": {},
   "outputs": [],
   "source": [
    "s=\"Welcome to Python foundation course\""
   ]
  },
  {
   "cell_type": "code",
   "execution_count": 5,
   "id": "3354261d",
   "metadata": {},
   "outputs": [
    {
     "data": {
      "text/plain": [
       "'Welcome to Python foundation course'"
      ]
     },
     "execution_count": 5,
     "metadata": {},
     "output_type": "execute_result"
    }
   ],
   "source": [
    "s"
   ]
  },
  {
   "cell_type": "code",
   "execution_count": 6,
   "id": "0c5aafdc",
   "metadata": {},
   "outputs": [
    {
     "data": {
      "text/plain": [
       "4"
      ]
     },
     "execution_count": 6,
     "metadata": {},
     "output_type": "execute_result"
    }
   ],
   "source": [
    "s.find('o')"
   ]
  },
  {
   "cell_type": "code",
   "execution_count": 7,
   "id": "dbe1460b",
   "metadata": {},
   "outputs": [
    {
     "data": {
      "text/plain": [
       "6"
      ]
     },
     "execution_count": 7,
     "metadata": {},
     "output_type": "execute_result"
    }
   ],
   "source": [
    "s.count('o')"
   ]
  },
  {
   "cell_type": "code",
   "execution_count": 8,
   "id": "1a2d1467",
   "metadata": {},
   "outputs": [
    {
     "data": {
      "text/plain": [
       "35"
      ]
     },
     "execution_count": 8,
     "metadata": {},
     "output_type": "execute_result"
    }
   ],
   "source": [
    "len(s)"
   ]
  },
  {
   "cell_type": "code",
   "execution_count": 9,
   "id": "508b3cd5",
   "metadata": {},
   "outputs": [
    {
     "data": {
      "text/plain": [
       "\"Welcome to Python foundation course Welcome to sudhanshu sir's class\""
      ]
     },
     "execution_count": 9,
     "metadata": {},
     "output_type": "execute_result"
    }
   ],
   "source": [
    "#concatenation\n",
    "s+\" Welcome to sudhanshu sir's class\""
   ]
  },
  {
   "cell_type": "markdown",
   "id": "4d4f1864",
   "metadata": {},
   "source": [
    "Q4. For the variable: word = 'PanaJi@12256'\n",
    "Calculate the following:\n",
    "\n",
    "      (a) Total number of alphabets in lowercase\n",
    "\n",
    "      (b) Total number of alphabets in uppercase\n",
    "\n",
    "      (c) Total number of numerical in string"
   ]
  },
  {
   "cell_type": "code",
   "execution_count": 11,
   "id": "a9da53b6",
   "metadata": {},
   "outputs": [],
   "source": [
    "word='PanaJi@12256'"
   ]
  },
  {
   "cell_type": "code",
   "execution_count": 31,
   "id": "7c891dee",
   "metadata": {},
   "outputs": [
    {
     "name": "stdout",
     "output_type": "stream",
     "text": [
      "Total number of alphabets in lowercase: 4\n"
     ]
    }
   ],
   "source": [
    "word = 'PanaJi@12256'\n",
    "lowercase_count = sum(1 for char in word if char.islower())\n",
    "print(\"Total number of alphabets in lowercase:\", lowercase_count)"
   ]
  },
  {
   "cell_type": "code",
   "execution_count": 32,
   "id": "d3bcd5cf",
   "metadata": {},
   "outputs": [
    {
     "name": "stdout",
     "output_type": "stream",
     "text": [
      "Total number of alphabets in uppercase: 2\n"
     ]
    }
   ],
   "source": [
    "word = 'PanaJi@12256'\n",
    "uppercase_count = sum(1 for char in word if char.isupper())\n",
    "print(\"Total number of alphabets in uppercase:\", uppercase_count)\n"
   ]
  },
  {
   "cell_type": "code",
   "execution_count": 37,
   "id": "f81e128d",
   "metadata": {},
   "outputs": [
    {
     "name": "stdout",
     "output_type": "stream",
     "text": [
      "Total number of numerical characters: 5\n"
     ]
    }
   ],
   "source": [
    "word = 'PanaJi@12256'\n",
    "numeric_count = sum(1 for char in word if char.isdigit())\n",
    "print(\"Total number of numerical characters:\", numeric_count)\n"
   ]
  },
  {
   "cell_type": "markdown",
   "id": "a590b47f",
   "metadata": {},
   "source": [
    "Q5. Write a code to store a numerical value inside a variable then convert it into string."
   ]
  },
  {
   "cell_type": "code",
   "execution_count": 38,
   "id": "cc03497b",
   "metadata": {},
   "outputs": [],
   "source": [
    "num_val=123"
   ]
  },
  {
   "cell_type": "code",
   "execution_count": 39,
   "id": "f8e4e65d",
   "metadata": {},
   "outputs": [
    {
     "data": {
      "text/plain": [
       "'123'"
      ]
     },
     "execution_count": 39,
     "metadata": {},
     "output_type": "execute_result"
    }
   ],
   "source": [
    "str(num_val)"
   ]
  },
  {
   "cell_type": "code",
   "execution_count": 40,
   "id": "582147c6",
   "metadata": {},
   "outputs": [
    {
     "data": {
      "text/plain": [
       "str"
      ]
     },
     "execution_count": 40,
     "metadata": {},
     "output_type": "execute_result"
    }
   ],
   "source": [
    "type(str(num_val))"
   ]
  },
  {
   "cell_type": "code",
   "execution_count": 42,
   "id": "8fdace09",
   "metadata": {},
   "outputs": [
    {
     "data": {
      "text/plain": [
       "int"
      ]
     },
     "execution_count": 42,
     "metadata": {},
     "output_type": "execute_result"
    }
   ],
   "source": [
    "type(num_val)"
   ]
  },
  {
   "cell_type": "code",
   "execution_count": null,
   "id": "5328cb11",
   "metadata": {},
   "outputs": [],
   "source": []
  }
 ],
 "metadata": {
  "kernelspec": {
   "display_name": "Python 3 (ipykernel)",
   "language": "python",
   "name": "python3"
  },
  "language_info": {
   "codemirror_mode": {
    "name": "ipython",
    "version": 3
   },
   "file_extension": ".py",
   "mimetype": "text/x-python",
   "name": "python",
   "nbconvert_exporter": "python",
   "pygments_lexer": "ipython3",
   "version": "3.10.9"
  }
 },
 "nbformat": 4,
 "nbformat_minor": 5
}
