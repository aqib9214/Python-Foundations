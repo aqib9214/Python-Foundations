{
 "cells": [
  {
   "cell_type": "markdown",
   "id": "75422e7f",
   "metadata": {},
   "source": [
    "Q1. What is a set in Python?"
   ]
  },
  {
   "cell_type": "markdown",
   "id": "f378e45f",
   "metadata": {},
   "source": [
    "Set is a unordered collection of unique elements"
   ]
  },
  {
   "cell_type": "markdown",
   "id": "12a828fe",
   "metadata": {},
   "source": [
    "Q2.How do you create a set in Python?"
   ]
  },
  {
   "cell_type": "code",
   "execution_count": 1,
   "id": "e92cbb93",
   "metadata": {},
   "outputs": [],
   "source": [
    "s={} #if you check its type it will return dict"
   ]
  },
  {
   "cell_type": "code",
   "execution_count": 2,
   "id": "896a3710",
   "metadata": {},
   "outputs": [
    {
     "data": {
      "text/plain": [
       "dict"
      ]
     },
     "execution_count": 2,
     "metadata": {},
     "output_type": "execute_result"
    }
   ],
   "source": [
    "type(s)"
   ]
  },
  {
   "cell_type": "code",
   "execution_count": 3,
   "id": "381fc30c",
   "metadata": {},
   "outputs": [],
   "source": [
    "s1={1}"
   ]
  },
  {
   "cell_type": "code",
   "execution_count": 4,
   "id": "c3fad483",
   "metadata": {},
   "outputs": [
    {
     "data": {
      "text/plain": [
       "set"
      ]
     },
     "execution_count": 4,
     "metadata": {},
     "output_type": "execute_result"
    }
   ],
   "source": [
    "type(s1)"
   ]
  },
  {
   "cell_type": "code",
   "execution_count": 5,
   "id": "f07a6e83",
   "metadata": {},
   "outputs": [],
   "source": [
    "s1={1,2,2,3,3,3,3,3,4,4,5,6,6,6}"
   ]
  },
  {
   "cell_type": "code",
   "execution_count": 6,
   "id": "772da787",
   "metadata": {},
   "outputs": [
    {
     "data": {
      "text/plain": [
       "{1, 2, 3, 4, 5, 6}"
      ]
     },
     "execution_count": 6,
     "metadata": {},
     "output_type": "execute_result"
    }
   ],
   "source": [
    "s1"
   ]
  },
  {
   "cell_type": "markdown",
   "id": "fd6e1c0b",
   "metadata": {},
   "source": [
    "Q3. How do you add elements to a set in Python?"
   ]
  },
  {
   "cell_type": "code",
   "execution_count": 7,
   "id": "ca4ebef2",
   "metadata": {},
   "outputs": [],
   "source": [
    "s2={1, 2, 3, 4, 5, 6}"
   ]
  },
  {
   "cell_type": "code",
   "execution_count": 8,
   "id": "4f52f288",
   "metadata": {},
   "outputs": [],
   "source": [
    "s2.add(7)"
   ]
  },
  {
   "cell_type": "code",
   "execution_count": 9,
   "id": "1c714be5",
   "metadata": {},
   "outputs": [
    {
     "data": {
      "text/plain": [
       "{1, 2, 3, 4, 5, 6, 7}"
      ]
     },
     "execution_count": 9,
     "metadata": {},
     "output_type": "execute_result"
    }
   ],
   "source": [
    "s2"
   ]
  },
  {
   "cell_type": "markdown",
   "id": "64446d84",
   "metadata": {},
   "source": [
    "Q4. How do you remove elements from a set in Python?"
   ]
  },
  {
   "cell_type": "code",
   "execution_count": 10,
   "id": "700dbf80",
   "metadata": {},
   "outputs": [],
   "source": [
    "s4={1, 2, 3, 4, 5, 6, 7}"
   ]
  },
  {
   "cell_type": "code",
   "execution_count": 11,
   "id": "ea969328",
   "metadata": {},
   "outputs": [],
   "source": [
    "s4.remove(4)"
   ]
  },
  {
   "cell_type": "code",
   "execution_count": 12,
   "id": "8f008af6",
   "metadata": {},
   "outputs": [
    {
     "data": {
      "text/plain": [
       "{1, 2, 3, 5, 6, 7}"
      ]
     },
     "execution_count": 12,
     "metadata": {},
     "output_type": "execute_result"
    }
   ],
   "source": [
    "s4"
   ]
  },
  {
   "cell_type": "markdown",
   "id": "e95ce41b",
   "metadata": {},
   "source": [
    "Q5. How do you get the length of a set in Python?"
   ]
  },
  {
   "cell_type": "code",
   "execution_count": 13,
   "id": "f02f5d5c",
   "metadata": {},
   "outputs": [],
   "source": [
    "s5={1, 2, 3, 5, 6, 7}"
   ]
  },
  {
   "cell_type": "code",
   "execution_count": 14,
   "id": "6b1d9531",
   "metadata": {},
   "outputs": [
    {
     "data": {
      "text/plain": [
       "6"
      ]
     },
     "execution_count": 14,
     "metadata": {},
     "output_type": "execute_result"
    }
   ],
   "source": [
    "len(s5)"
   ]
  },
  {
   "cell_type": "code",
   "execution_count": null,
   "id": "496be285",
   "metadata": {},
   "outputs": [],
   "source": []
  }
 ],
 "metadata": {
  "kernelspec": {
   "display_name": "Python 3 (ipykernel)",
   "language": "python",
   "name": "python3"
  },
  "language_info": {
   "codemirror_mode": {
    "name": "ipython",
    "version": 3
   },
   "file_extension": ".py",
   "mimetype": "text/x-python",
   "name": "python",
   "nbconvert_exporter": "python",
   "pygments_lexer": "ipython3",
   "version": "3.10.9"
  }
 },
 "nbformat": 4,
 "nbformat_minor": 5
}
