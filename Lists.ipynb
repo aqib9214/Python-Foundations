{
 "cells": [
  {
   "cell_type": "code",
   "execution_count": 1,
   "id": "ab2dfbdd",
   "metadata": {},
   "outputs": [],
   "source": [
    "l=[]"
   ]
  },
  {
   "cell_type": "code",
   "execution_count": 2,
   "id": "bf10a162",
   "metadata": {},
   "outputs": [
    {
     "data": {
      "text/plain": [
       "list"
      ]
     },
     "execution_count": 2,
     "metadata": {},
     "output_type": "execute_result"
    }
   ],
   "source": [
    "type(l)"
   ]
  },
  {
   "cell_type": "code",
   "execution_count": 3,
   "id": "6d9c02ae",
   "metadata": {},
   "outputs": [],
   "source": [
    "l1=[1,2,3,45,6]"
   ]
  },
  {
   "cell_type": "code",
   "execution_count": 4,
   "id": "358c65d6",
   "metadata": {},
   "outputs": [],
   "source": [
    "a=1"
   ]
  },
  {
   "cell_type": "code",
   "execution_count": 5,
   "id": "bd8937e5",
   "metadata": {},
   "outputs": [
    {
     "data": {
      "text/plain": [
       "1"
      ]
     },
     "execution_count": 5,
     "metadata": {},
     "output_type": "execute_result"
    }
   ],
   "source": [
    "a"
   ]
  },
  {
   "cell_type": "code",
   "execution_count": 6,
   "id": "40b5fce7",
   "metadata": {},
   "outputs": [
    {
     "data": {
      "text/plain": [
       "[1, 2, 3, 45, 6]"
      ]
     },
     "execution_count": 6,
     "metadata": {},
     "output_type": "execute_result"
    }
   ],
   "source": [
    "l1"
   ]
  },
  {
   "cell_type": "code",
   "execution_count": 7,
   "id": "aeb2eb11",
   "metadata": {},
   "outputs": [],
   "source": [
    "l2=[1,2,3,4,5.5,\"sudh\",True,4+5j]"
   ]
  },
  {
   "cell_type": "code",
   "execution_count": 8,
   "id": "ca9d7122",
   "metadata": {},
   "outputs": [
    {
     "data": {
      "text/plain": [
       "[1, 2, 3, 4, 5.5, 'sudh', True, (4+5j)]"
      ]
     },
     "execution_count": 8,
     "metadata": {},
     "output_type": "execute_result"
    }
   ],
   "source": [
    "l2"
   ]
  },
  {
   "cell_type": "code",
   "execution_count": 9,
   "id": "4deb29d3",
   "metadata": {},
   "outputs": [],
   "source": [
    "l3=[\"sudh\",5,45.65,True]"
   ]
  },
  {
   "cell_type": "code",
   "execution_count": 10,
   "id": "21d669b0",
   "metadata": {},
   "outputs": [
    {
     "data": {
      "text/plain": [
       "'sudh'"
      ]
     },
     "execution_count": 10,
     "metadata": {},
     "output_type": "execute_result"
    }
   ],
   "source": [
    "l3[0]"
   ]
  },
  {
   "cell_type": "code",
   "execution_count": 11,
   "id": "437ca253",
   "metadata": {},
   "outputs": [
    {
     "data": {
      "text/plain": [
       "True"
      ]
     },
     "execution_count": 11,
     "metadata": {},
     "output_type": "execute_result"
    }
   ],
   "source": [
    "l3[3]"
   ]
  },
  {
   "cell_type": "code",
   "execution_count": 12,
   "id": "aa2f188b",
   "metadata": {},
   "outputs": [
    {
     "data": {
      "text/plain": [
       "True"
      ]
     },
     "execution_count": 12,
     "metadata": {},
     "output_type": "execute_result"
    }
   ],
   "source": [
    "l3[-1]"
   ]
  },
  {
   "cell_type": "code",
   "execution_count": 13,
   "id": "83175cc9",
   "metadata": {},
   "outputs": [
    {
     "ename": "IndexError",
     "evalue": "list index out of range",
     "output_type": "error",
     "traceback": [
      "\u001b[1;31m---------------------------------------------------------------------------\u001b[0m",
      "\u001b[1;31mIndexError\u001b[0m                                Traceback (most recent call last)",
      "Cell \u001b[1;32mIn[13], line 1\u001b[0m\n\u001b[1;32m----> 1\u001b[0m \u001b[43ml3\u001b[49m\u001b[43m[\u001b[49m\u001b[38;5;241;43m100\u001b[39;49m\u001b[43m]\u001b[49m\n",
      "\u001b[1;31mIndexError\u001b[0m: list index out of range"
     ]
    }
   ],
   "source": [
    "l3[100]"
   ]
  },
  {
   "cell_type": "code",
   "execution_count": 14,
   "id": "6c59bbc0",
   "metadata": {},
   "outputs": [
    {
     "data": {
      "text/plain": [
       "['sudh', 5, 45.65, True]"
      ]
     },
     "execution_count": 14,
     "metadata": {},
     "output_type": "execute_result"
    }
   ],
   "source": [
    "l3"
   ]
  },
  {
   "cell_type": "code",
   "execution_count": 15,
   "id": "bba098ca",
   "metadata": {},
   "outputs": [
    {
     "data": {
      "text/plain": [
       "['sudh', 5]"
      ]
     },
     "execution_count": 15,
     "metadata": {},
     "output_type": "execute_result"
    }
   ],
   "source": [
    "l3[0:2]"
   ]
  },
  {
   "cell_type": "code",
   "execution_count": 16,
   "id": "ab70e684",
   "metadata": {},
   "outputs": [
    {
     "data": {
      "text/plain": [
       "[True, 45.65, 5, 'sudh']"
      ]
     },
     "execution_count": 16,
     "metadata": {},
     "output_type": "execute_result"
    }
   ],
   "source": [
    "l3[::-1]"
   ]
  },
  {
   "cell_type": "code",
   "execution_count": 17,
   "id": "2fc764ec",
   "metadata": {},
   "outputs": [
    {
     "data": {
      "text/plain": [
       "[True, 45.65, 5]"
      ]
     },
     "execution_count": 17,
     "metadata": {},
     "output_type": "execute_result"
    }
   ],
   "source": [
    "l3[3:0:-1]"
   ]
  },
  {
   "cell_type": "code",
   "execution_count": 18,
   "id": "2871b97d",
   "metadata": {},
   "outputs": [
    {
     "data": {
      "text/plain": [
       "[True, 45.65, 5, 'sudh']"
      ]
     },
     "execution_count": 18,
     "metadata": {},
     "output_type": "execute_result"
    }
   ],
   "source": [
    "l3[3::-1]"
   ]
  },
  {
   "cell_type": "code",
   "execution_count": 19,
   "id": "1cced99f",
   "metadata": {},
   "outputs": [],
   "source": [
    "l3[0]=100"
   ]
  },
  {
   "cell_type": "code",
   "execution_count": 20,
   "id": "2912c30c",
   "metadata": {},
   "outputs": [
    {
     "data": {
      "text/plain": [
       "[100, 5, 45.65, True]"
      ]
     },
     "execution_count": 20,
     "metadata": {},
     "output_type": "execute_result"
    }
   ],
   "source": [
    "l3"
   ]
  },
  {
   "cell_type": "code",
   "execution_count": 21,
   "id": "02e8dbf8",
   "metadata": {},
   "outputs": [],
   "source": [
    "s=\"pwskills\""
   ]
  },
  {
   "cell_type": "code",
   "execution_count": 22,
   "id": "5c1c806d",
   "metadata": {},
   "outputs": [
    {
     "data": {
      "text/plain": [
       "'p'"
      ]
     },
     "execution_count": 22,
     "metadata": {},
     "output_type": "execute_result"
    }
   ],
   "source": [
    "s[0]"
   ]
  },
  {
   "cell_type": "code",
   "execution_count": 23,
   "id": "07b64038",
   "metadata": {},
   "outputs": [
    {
     "ename": "TypeError",
     "evalue": "'str' object does not support item assignment",
     "output_type": "error",
     "traceback": [
      "\u001b[1;31m---------------------------------------------------------------------------\u001b[0m",
      "\u001b[1;31mTypeError\u001b[0m                                 Traceback (most recent call last)",
      "Cell \u001b[1;32mIn[23], line 1\u001b[0m\n\u001b[1;32m----> 1\u001b[0m s[\u001b[38;5;241m0\u001b[39m]\u001b[38;5;241m=\u001b[39m\u001b[38;5;124m\"\u001b[39m\u001b[38;5;124mA\u001b[39m\u001b[38;5;124m\"\u001b[39m\n",
      "\u001b[1;31mTypeError\u001b[0m: 'str' object does not support item assignment"
     ]
    }
   ],
   "source": [
    "s[0]=\"A\""
   ]
  },
  {
   "cell_type": "code",
   "execution_count": 24,
   "id": "0ca26dff",
   "metadata": {},
   "outputs": [
    {
     "data": {
      "text/plain": [
       "[100, 5, 45.65, True]"
      ]
     },
     "execution_count": 24,
     "metadata": {},
     "output_type": "execute_result"
    }
   ],
   "source": [
    "l3"
   ]
  },
  {
   "cell_type": "code",
   "execution_count": 25,
   "id": "d12d45e7",
   "metadata": {},
   "outputs": [
    {
     "data": {
      "text/plain": [
       "True"
      ]
     },
     "execution_count": 25,
     "metadata": {},
     "output_type": "execute_result"
    }
   ],
   "source": [
    "l3.pop()"
   ]
  },
  {
   "cell_type": "code",
   "execution_count": 26,
   "id": "4ba712bf",
   "metadata": {},
   "outputs": [
    {
     "data": {
      "text/plain": [
       "[100, 5, 45.65]"
      ]
     },
     "execution_count": 26,
     "metadata": {},
     "output_type": "execute_result"
    }
   ],
   "source": [
    "l3"
   ]
  },
  {
   "cell_type": "code",
   "execution_count": 27,
   "id": "c3b5f4dd",
   "metadata": {},
   "outputs": [],
   "source": [
    "l3.remove(45.65)"
   ]
  },
  {
   "cell_type": "code",
   "execution_count": 28,
   "id": "3ea7f299",
   "metadata": {},
   "outputs": [
    {
     "data": {
      "text/plain": [
       "[100, 5]"
      ]
     },
     "execution_count": 28,
     "metadata": {},
     "output_type": "execute_result"
    }
   ],
   "source": [
    "l3"
   ]
  },
  {
   "cell_type": "code",
   "execution_count": 29,
   "id": "3b9cc32a",
   "metadata": {},
   "outputs": [
    {
     "data": {
      "text/plain": [
       "1"
      ]
     },
     "execution_count": 29,
     "metadata": {},
     "output_type": "execute_result"
    }
   ],
   "source": [
    "l3.index(5)"
   ]
  },
  {
   "cell_type": "code",
   "execution_count": 30,
   "id": "907845d5",
   "metadata": {},
   "outputs": [
    {
     "ename": "TypeError",
     "evalue": "list.append() takes exactly one argument (5 given)",
     "output_type": "error",
     "traceback": [
      "\u001b[1;31m---------------------------------------------------------------------------\u001b[0m",
      "\u001b[1;31mTypeError\u001b[0m                                 Traceback (most recent call last)",
      "Cell \u001b[1;32mIn[30], line 1\u001b[0m\n\u001b[1;32m----> 1\u001b[0m \u001b[43ml3\u001b[49m\u001b[38;5;241;43m.\u001b[39;49m\u001b[43mappend\u001b[49m\u001b[43m(\u001b[49m\u001b[38;5;241;43m2\u001b[39;49m\u001b[43m,\u001b[49m\u001b[38;5;241;43m3\u001b[39;49m\u001b[43m,\u001b[49m\u001b[38;5;241;43m4\u001b[39;49m\u001b[43m,\u001b[49m\u001b[38;5;241;43m5\u001b[39;49m\u001b[43m,\u001b[49m\u001b[38;5;241;43m6\u001b[39;49m\u001b[43m)\u001b[49m\n",
      "\u001b[1;31mTypeError\u001b[0m: list.append() takes exactly one argument (5 given)"
     ]
    }
   ],
   "source": [
    "l3.append(2,3,4,5,6)"
   ]
  },
  {
   "cell_type": "code",
   "execution_count": 31,
   "id": "8e36d404",
   "metadata": {},
   "outputs": [],
   "source": [
    "l3.append(7)"
   ]
  },
  {
   "cell_type": "code",
   "execution_count": 32,
   "id": "a96e35fa",
   "metadata": {},
   "outputs": [
    {
     "data": {
      "text/plain": [
       "[100, 5, 7]"
      ]
     },
     "execution_count": 32,
     "metadata": {},
     "output_type": "execute_result"
    }
   ],
   "source": [
    "l3"
   ]
  },
  {
   "cell_type": "code",
   "execution_count": 33,
   "id": "ff491c5e",
   "metadata": {},
   "outputs": [],
   "source": [
    "l3.extend([2,3,4,5,6])"
   ]
  },
  {
   "cell_type": "code",
   "execution_count": 34,
   "id": "fda9b8b1",
   "metadata": {},
   "outputs": [
    {
     "data": {
      "text/plain": [
       "[100, 5, 7, 2, 3, 4, 5, 6]"
      ]
     },
     "execution_count": 34,
     "metadata": {},
     "output_type": "execute_result"
    }
   ],
   "source": [
    "l3"
   ]
  },
  {
   "cell_type": "code",
   "execution_count": 35,
   "id": "874d64b3",
   "metadata": {},
   "outputs": [],
   "source": [
    "l3.insert(0,\"mohandas karamchand gandhi\")"
   ]
  },
  {
   "cell_type": "code",
   "execution_count": 36,
   "id": "4f2d7e8a",
   "metadata": {},
   "outputs": [
    {
     "data": {
      "text/plain": [
       "['mohandas karamchand gandhi', 100, 5, 7, 2, 3, 4, 5, 6]"
      ]
     },
     "execution_count": 36,
     "metadata": {},
     "output_type": "execute_result"
    }
   ],
   "source": [
    "l3"
   ]
  },
  {
   "cell_type": "code",
   "execution_count": 37,
   "id": "e8c0000b",
   "metadata": {},
   "outputs": [
    {
     "ename": "TypeError",
     "evalue": "'<' not supported between instances of 'int' and 'str'",
     "output_type": "error",
     "traceback": [
      "\u001b[1;31m---------------------------------------------------------------------------\u001b[0m",
      "\u001b[1;31mTypeError\u001b[0m                                 Traceback (most recent call last)",
      "Cell \u001b[1;32mIn[37], line 1\u001b[0m\n\u001b[1;32m----> 1\u001b[0m \u001b[43ml3\u001b[49m\u001b[38;5;241;43m.\u001b[39;49m\u001b[43msort\u001b[49m\u001b[43m(\u001b[49m\u001b[43m)\u001b[49m\n",
      "\u001b[1;31mTypeError\u001b[0m: '<' not supported between instances of 'int' and 'str'"
     ]
    }
   ],
   "source": [
    "l3.sort()"
   ]
  },
  {
   "cell_type": "code",
   "execution_count": 38,
   "id": "da773ff5",
   "metadata": {},
   "outputs": [
    {
     "data": {
      "text/plain": [
       "['mohandas karamchand gandhi', 100, 5, 7, 2, 3, 4, 5, 6]"
      ]
     },
     "execution_count": 38,
     "metadata": {},
     "output_type": "execute_result"
    }
   ],
   "source": [
    "l3"
   ]
  },
  {
   "cell_type": "code",
   "execution_count": 39,
   "id": "bc534442",
   "metadata": {},
   "outputs": [
    {
     "data": {
      "text/plain": [
       "'mohandas karamchand gandhi'"
      ]
     },
     "execution_count": 39,
     "metadata": {},
     "output_type": "execute_result"
    }
   ],
   "source": [
    "l3.pop(0)"
   ]
  },
  {
   "cell_type": "code",
   "execution_count": 40,
   "id": "64934db8",
   "metadata": {},
   "outputs": [
    {
     "data": {
      "text/plain": [
       "[100, 5, 7, 2, 3, 4, 5, 6]"
      ]
     },
     "execution_count": 40,
     "metadata": {},
     "output_type": "execute_result"
    }
   ],
   "source": [
    "l3"
   ]
  },
  {
   "cell_type": "code",
   "execution_count": 41,
   "id": "81f77ba0",
   "metadata": {},
   "outputs": [],
   "source": [
    "l3.sort()"
   ]
  },
  {
   "cell_type": "code",
   "execution_count": 42,
   "id": "cfd5a242",
   "metadata": {},
   "outputs": [
    {
     "data": {
      "text/plain": [
       "[2, 3, 4, 5, 5, 6, 7, 100]"
      ]
     },
     "execution_count": 42,
     "metadata": {},
     "output_type": "execute_result"
    }
   ],
   "source": [
    "l3"
   ]
  },
  {
   "cell_type": "code",
   "execution_count": 43,
   "id": "cc89bc4e",
   "metadata": {},
   "outputs": [],
   "source": [
    "l3.clear()"
   ]
  },
  {
   "cell_type": "code",
   "execution_count": 44,
   "id": "d134611f",
   "metadata": {},
   "outputs": [
    {
     "data": {
      "text/plain": [
       "[]"
      ]
     },
     "execution_count": 44,
     "metadata": {},
     "output_type": "execute_result"
    }
   ],
   "source": [
    "l3"
   ]
  },
  {
   "cell_type": "code",
   "execution_count": 45,
   "id": "2485af1d",
   "metadata": {},
   "outputs": [
    {
     "data": {
      "text/plain": [
       "[]"
      ]
     },
     "execution_count": 45,
     "metadata": {},
     "output_type": "execute_result"
    }
   ],
   "source": [
    "l3.copy()"
   ]
  },
  {
   "cell_type": "code",
   "execution_count": 46,
   "id": "ab0bb8a1",
   "metadata": {},
   "outputs": [],
   "source": [
    "l3.extend([1,2,3,4,5,6,7,8,9,10])"
   ]
  },
  {
   "cell_type": "code",
   "execution_count": 47,
   "id": "9cfb38fc",
   "metadata": {},
   "outputs": [
    {
     "data": {
      "text/plain": [
       "[1, 2, 3, 4, 5, 6, 7, 8, 9, 10]"
      ]
     },
     "execution_count": 47,
     "metadata": {},
     "output_type": "execute_result"
    }
   ],
   "source": [
    "l3"
   ]
  },
  {
   "cell_type": "code",
   "execution_count": 48,
   "id": "31aa9749",
   "metadata": {},
   "outputs": [],
   "source": [
    "l3.append(10)"
   ]
  },
  {
   "cell_type": "code",
   "execution_count": 49,
   "id": "9d8569e1",
   "metadata": {},
   "outputs": [
    {
     "data": {
      "text/plain": [
       "[1, 2, 3, 4, 5, 6, 7, 8, 9, 10, 10]"
      ]
     },
     "execution_count": 49,
     "metadata": {},
     "output_type": "execute_result"
    }
   ],
   "source": [
    "l3"
   ]
  },
  {
   "cell_type": "code",
   "execution_count": 50,
   "id": "71467de0",
   "metadata": {},
   "outputs": [
    {
     "data": {
      "text/plain": [
       "2"
      ]
     },
     "execution_count": 50,
     "metadata": {},
     "output_type": "execute_result"
    }
   ],
   "source": [
    "l3.count(10)"
   ]
  },
  {
   "cell_type": "code",
   "execution_count": 51,
   "id": "115ac3d7",
   "metadata": {},
   "outputs": [
    {
     "data": {
      "text/plain": [
       "[1, 2, 3, 4, 5, 6, 7, 8, 9, 10, 10]"
      ]
     },
     "execution_count": 51,
     "metadata": {},
     "output_type": "execute_result"
    }
   ],
   "source": [
    "l3.copy()"
   ]
  },
  {
   "cell_type": "code",
   "execution_count": 52,
   "id": "8e66d11e",
   "metadata": {},
   "outputs": [],
   "source": [
    "l3.reverse()"
   ]
  },
  {
   "cell_type": "code",
   "execution_count": 53,
   "id": "0c6378f6",
   "metadata": {},
   "outputs": [
    {
     "data": {
      "text/plain": [
       "[10, 10, 9, 8, 7, 6, 5, 4, 3, 2, 1]"
      ]
     },
     "execution_count": 53,
     "metadata": {},
     "output_type": "execute_result"
    }
   ],
   "source": [
    "l3"
   ]
  },
  {
   "cell_type": "code",
   "execution_count": 54,
   "id": "a0df6568",
   "metadata": {},
   "outputs": [
    {
     "data": {
      "text/plain": [
       "[1, 2, 3, 4, 5, 6, 7, 8, 9, 10, 10]"
      ]
     },
     "execution_count": 54,
     "metadata": {},
     "output_type": "execute_result"
    }
   ],
   "source": [
    "l3[::-1]"
   ]
  },
  {
   "cell_type": "code",
   "execution_count": 55,
   "id": "54102da7",
   "metadata": {},
   "outputs": [
    {
     "data": {
      "text/plain": [
       "[10, 10, 9, 8, 7, 6, 5, 4, 3, 2, 1]"
      ]
     },
     "execution_count": 55,
     "metadata": {},
     "output_type": "execute_result"
    }
   ],
   "source": [
    "l3"
   ]
  },
  {
   "cell_type": "code",
   "execution_count": 56,
   "id": "dce139c0",
   "metadata": {},
   "outputs": [],
   "source": [
    "l=[3,4,5,34.56,\"sudh\",True]"
   ]
  },
  {
   "cell_type": "code",
   "execution_count": 57,
   "id": "e585225b",
   "metadata": {},
   "outputs": [
    {
     "data": {
      "text/plain": [
       "[3, 4, 5, 34.56, 'sudh', True, 3, 4, 5, 34.56, 'sudh', True]"
      ]
     },
     "execution_count": 57,
     "metadata": {},
     "output_type": "execute_result"
    }
   ],
   "source": [
    "l*2"
   ]
  },
  {
   "cell_type": "code",
   "execution_count": 58,
   "id": "cc5b0a8d",
   "metadata": {},
   "outputs": [
    {
     "data": {
      "text/plain": [
       "[3,\n",
       " 4,\n",
       " 5,\n",
       " 34.56,\n",
       " 'sudh',\n",
       " True,\n",
       " 3,\n",
       " 4,\n",
       " 5,\n",
       " 34.56,\n",
       " 'sudh',\n",
       " True,\n",
       " 3,\n",
       " 4,\n",
       " 5,\n",
       " 34.56,\n",
       " 'sudh',\n",
       " True]"
      ]
     },
     "execution_count": 58,
     "metadata": {},
     "output_type": "execute_result"
    }
   ],
   "source": [
    "l*3"
   ]
  },
  {
   "cell_type": "code",
   "execution_count": 59,
   "id": "3cc61e22",
   "metadata": {},
   "outputs": [],
   "source": [
    "s=\"sudh\""
   ]
  },
  {
   "cell_type": "code",
   "execution_count": 60,
   "id": "50815039",
   "metadata": {},
   "outputs": [
    {
     "data": {
      "text/plain": [
       "'sudhsudhsudh'"
      ]
     },
     "execution_count": 60,
     "metadata": {},
     "output_type": "execute_result"
    }
   ],
   "source": [
    "s*3"
   ]
  },
  {
   "cell_type": "code",
   "execution_count": 61,
   "id": "85561ffa",
   "metadata": {},
   "outputs": [
    {
     "data": {
      "text/plain": [
       "[3, 4, 5, 34.56, 'sudh', True]"
      ]
     },
     "execution_count": 61,
     "metadata": {},
     "output_type": "execute_result"
    }
   ],
   "source": [
    "l"
   ]
  },
  {
   "cell_type": "code",
   "execution_count": 62,
   "id": "e29a6dbe",
   "metadata": {},
   "outputs": [],
   "source": [
    "l1=[3,4,5,6]"
   ]
  },
  {
   "cell_type": "code",
   "execution_count": 63,
   "id": "f2d40bae",
   "metadata": {},
   "outputs": [
    {
     "data": {
      "text/plain": [
       "[3, 4, 5, 34.56, 'sudh', True, 3, 4, 5, 6]"
      ]
     },
     "execution_count": 63,
     "metadata": {},
     "output_type": "execute_result"
    }
   ],
   "source": [
    "l+l1"
   ]
  },
  {
   "cell_type": "code",
   "execution_count": 64,
   "id": "90d1b847",
   "metadata": {},
   "outputs": [
    {
     "ename": "TypeError",
     "evalue": "can only concatenate list (not \"int\") to list",
     "output_type": "error",
     "traceback": [
      "\u001b[1;31m---------------------------------------------------------------------------\u001b[0m",
      "\u001b[1;31mTypeError\u001b[0m                                 Traceback (most recent call last)",
      "Cell \u001b[1;32mIn[64], line 1\u001b[0m\n\u001b[1;32m----> 1\u001b[0m \u001b[43ml\u001b[49m\u001b[38;5;241;43m+\u001b[39;49m\u001b[38;5;241;43m1\u001b[39;49m\n",
      "\u001b[1;31mTypeError\u001b[0m: can only concatenate list (not \"int\") to list"
     ]
    }
   ],
   "source": [
    "l+1"
   ]
  },
  {
   "cell_type": "code",
   "execution_count": 65,
   "id": "b462b712",
   "metadata": {},
   "outputs": [
    {
     "ename": "TypeError",
     "evalue": "can only concatenate list (not \"str\") to list",
     "output_type": "error",
     "traceback": [
      "\u001b[1;31m---------------------------------------------------------------------------\u001b[0m",
      "\u001b[1;31mTypeError\u001b[0m                                 Traceback (most recent call last)",
      "Cell \u001b[1;32mIn[65], line 1\u001b[0m\n\u001b[1;32m----> 1\u001b[0m \u001b[43ml\u001b[49m\u001b[38;5;241;43m+\u001b[39;49m\u001b[38;5;124;43m\"\u001b[39;49m\u001b[38;5;124;43msudh\u001b[39;49m\u001b[38;5;124;43m\"\u001b[39;49m\n",
      "\u001b[1;31mTypeError\u001b[0m: can only concatenate list (not \"str\") to list"
     ]
    }
   ],
   "source": [
    "l+\"sudh\""
   ]
  },
  {
   "cell_type": "code",
   "execution_count": 66,
   "id": "9f4531b2",
   "metadata": {},
   "outputs": [
    {
     "data": {
      "text/plain": [
       "[3, 4, 5, 34.56, 'sudh', True]"
      ]
     },
     "execution_count": 66,
     "metadata": {},
     "output_type": "execute_result"
    }
   ],
   "source": [
    "l"
   ]
  },
  {
   "cell_type": "code",
   "execution_count": 67,
   "id": "901465bc",
   "metadata": {},
   "outputs": [
    {
     "data": {
      "text/plain": [
       "6"
      ]
     },
     "execution_count": 67,
     "metadata": {},
     "output_type": "execute_result"
    }
   ],
   "source": [
    "len(l)"
   ]
  },
  {
   "cell_type": "code",
   "execution_count": 68,
   "id": "c241036e",
   "metadata": {},
   "outputs": [
    {
     "data": {
      "text/plain": [
       "'sudh'"
      ]
     },
     "execution_count": 68,
     "metadata": {},
     "output_type": "execute_result"
    }
   ],
   "source": [
    "s"
   ]
  },
  {
   "cell_type": "code",
   "execution_count": 69,
   "id": "dc1793e1",
   "metadata": {},
   "outputs": [
    {
     "data": {
      "text/plain": [
       "4"
      ]
     },
     "execution_count": 69,
     "metadata": {},
     "output_type": "execute_result"
    }
   ],
   "source": [
    "len(s)"
   ]
  },
  {
   "cell_type": "code",
   "execution_count": 70,
   "id": "4b252af8",
   "metadata": {},
   "outputs": [
    {
     "ename": "TypeError",
     "evalue": "object of type 'int' has no len()",
     "output_type": "error",
     "traceback": [
      "\u001b[1;31m---------------------------------------------------------------------------\u001b[0m",
      "\u001b[1;31mTypeError\u001b[0m                                 Traceback (most recent call last)",
      "Cell \u001b[1;32mIn[70], line 1\u001b[0m\n\u001b[1;32m----> 1\u001b[0m \u001b[38;5;28;43mlen\u001b[39;49m\u001b[43m(\u001b[49m\u001b[38;5;241;43m234\u001b[39;49m\u001b[43m)\u001b[49m\n",
      "\u001b[1;31mTypeError\u001b[0m: object of type 'int' has no len()"
     ]
    }
   ],
   "source": [
    "len(234)"
   ]
  },
  {
   "cell_type": "code",
   "execution_count": 71,
   "id": "1df7ca8f",
   "metadata": {},
   "outputs": [
    {
     "data": {
      "text/plain": [
       "[3, 4, 5, 34.56, 'sudh', True]"
      ]
     },
     "execution_count": 71,
     "metadata": {},
     "output_type": "execute_result"
    }
   ],
   "source": [
    "l"
   ]
  },
  {
   "cell_type": "code",
   "execution_count": 72,
   "id": "00447098",
   "metadata": {},
   "outputs": [
    {
     "data": {
      "text/plain": [
       "True"
      ]
     },
     "execution_count": 72,
     "metadata": {},
     "output_type": "execute_result"
    }
   ],
   "source": [
    "\"sudh\" in l"
   ]
  },
  {
   "cell_type": "code",
   "execution_count": 73,
   "id": "bab6c1ab",
   "metadata": {},
   "outputs": [
    {
     "data": {
      "text/plain": [
       "False"
      ]
     },
     "execution_count": 73,
     "metadata": {},
     "output_type": "execute_result"
    }
   ],
   "source": [
    "100 in l"
   ]
  },
  {
   "cell_type": "code",
   "execution_count": 74,
   "id": "9b297bcd",
   "metadata": {},
   "outputs": [
    {
     "data": {
      "text/plain": [
       "[3, 4, 5, 6]"
      ]
     },
     "execution_count": 74,
     "metadata": {},
     "output_type": "execute_result"
    }
   ],
   "source": [
    "l1"
   ]
  },
  {
   "cell_type": "code",
   "execution_count": 75,
   "id": "4c5e43b5",
   "metadata": {},
   "outputs": [
    {
     "data": {
      "text/plain": [
       "6"
      ]
     },
     "execution_count": 75,
     "metadata": {},
     "output_type": "execute_result"
    }
   ],
   "source": [
    "max(l1)"
   ]
  },
  {
   "cell_type": "code",
   "execution_count": 76,
   "id": "04e3e804",
   "metadata": {},
   "outputs": [
    {
     "data": {
      "text/plain": [
       "3"
      ]
     },
     "execution_count": 76,
     "metadata": {},
     "output_type": "execute_result"
    }
   ],
   "source": [
    "min(l1)"
   ]
  },
  {
   "cell_type": "code",
   "execution_count": 77,
   "id": "9f6681f6",
   "metadata": {},
   "outputs": [
    {
     "data": {
      "text/plain": [
       "[3, 4, 5, 34.56, 'sudh', True]"
      ]
     },
     "execution_count": 77,
     "metadata": {},
     "output_type": "execute_result"
    }
   ],
   "source": [
    "l"
   ]
  },
  {
   "cell_type": "code",
   "execution_count": 78,
   "id": "bc2b0856",
   "metadata": {},
   "outputs": [
    {
     "ename": "TypeError",
     "evalue": "'>' not supported between instances of 'str' and 'float'",
     "output_type": "error",
     "traceback": [
      "\u001b[1;31m---------------------------------------------------------------------------\u001b[0m",
      "\u001b[1;31mTypeError\u001b[0m                                 Traceback (most recent call last)",
      "Cell \u001b[1;32mIn[78], line 1\u001b[0m\n\u001b[1;32m----> 1\u001b[0m \u001b[38;5;28;43mmax\u001b[39;49m\u001b[43m(\u001b[49m\u001b[43ml\u001b[49m\u001b[43m)\u001b[49m\n",
      "\u001b[1;31mTypeError\u001b[0m: '>' not supported between instances of 'str' and 'float'"
     ]
    }
   ],
   "source": [
    "max(l)"
   ]
  },
  {
   "cell_type": "code",
   "execution_count": 79,
   "id": "f103dad8",
   "metadata": {},
   "outputs": [],
   "source": [
    "l2=[\"sudh\",\"audh\",\"abc\",\"zrt\"]"
   ]
  },
  {
   "cell_type": "code",
   "execution_count": 80,
   "id": "a7e62316",
   "metadata": {},
   "outputs": [
    {
     "data": {
      "text/plain": [
       "'zrt'"
      ]
     },
     "execution_count": 80,
     "metadata": {},
     "output_type": "execute_result"
    }
   ],
   "source": [
    "max(l2)"
   ]
  },
  {
   "cell_type": "code",
   "execution_count": 81,
   "id": "ce31827e",
   "metadata": {},
   "outputs": [
    {
     "data": {
      "text/plain": [
       "'abc'"
      ]
     },
     "execution_count": 81,
     "metadata": {},
     "output_type": "execute_result"
    }
   ],
   "source": [
    "min(l2)"
   ]
  },
  {
   "cell_type": "code",
   "execution_count": 82,
   "id": "077469cd",
   "metadata": {},
   "outputs": [],
   "source": [
    "l3=[True,False]"
   ]
  },
  {
   "cell_type": "code",
   "execution_count": 83,
   "id": "0594d17c",
   "metadata": {},
   "outputs": [
    {
     "data": {
      "text/plain": [
       "True"
      ]
     },
     "execution_count": 83,
     "metadata": {},
     "output_type": "execute_result"
    }
   ],
   "source": [
    "max(l3)"
   ]
  },
  {
   "cell_type": "code",
   "execution_count": 84,
   "id": "6b45e841",
   "metadata": {},
   "outputs": [
    {
     "data": {
      "text/plain": [
       "False"
      ]
     },
     "execution_count": 84,
     "metadata": {},
     "output_type": "execute_result"
    }
   ],
   "source": [
    "min(l3)"
   ]
  },
  {
   "cell_type": "code",
   "execution_count": 85,
   "id": "b0885bb4",
   "metadata": {},
   "outputs": [
    {
     "data": {
      "text/plain": [
       "['sudh', 'audh', 'abc', 'zrt']"
      ]
     },
     "execution_count": 85,
     "metadata": {},
     "output_type": "execute_result"
    }
   ],
   "source": [
    "l2"
   ]
  },
  {
   "cell_type": "code",
   "execution_count": 86,
   "id": "8dec41f5",
   "metadata": {},
   "outputs": [],
   "source": [
    "l2.append(\"pwskills\")"
   ]
  },
  {
   "cell_type": "code",
   "execution_count": 87,
   "id": "2504801b",
   "metadata": {},
   "outputs": [
    {
     "data": {
      "text/plain": [
       "['sudh', 'audh', 'abc', 'zrt', 'pwskills']"
      ]
     },
     "execution_count": 87,
     "metadata": {},
     "output_type": "execute_result"
    }
   ],
   "source": [
    "l2"
   ]
  },
  {
   "cell_type": "code",
   "execution_count": 88,
   "id": "ef893741",
   "metadata": {},
   "outputs": [],
   "source": [
    "l2.append(45)"
   ]
  },
  {
   "cell_type": "code",
   "execution_count": 89,
   "id": "c9326c7e",
   "metadata": {},
   "outputs": [
    {
     "data": {
      "text/plain": [
       "['sudh', 'audh', 'abc', 'zrt', 'pwskills', 45]"
      ]
     },
     "execution_count": 89,
     "metadata": {},
     "output_type": "execute_result"
    }
   ],
   "source": [
    "l2"
   ]
  },
  {
   "cell_type": "code",
   "execution_count": 90,
   "id": "4aca98b1",
   "metadata": {},
   "outputs": [],
   "source": [
    "l2.insert(1,353)"
   ]
  },
  {
   "cell_type": "code",
   "execution_count": 91,
   "id": "f4d17f26",
   "metadata": {},
   "outputs": [
    {
     "data": {
      "text/plain": [
       "['sudh', 353, 'audh', 'abc', 'zrt', 'pwskills', 45]"
      ]
     },
     "execution_count": 91,
     "metadata": {},
     "output_type": "execute_result"
    }
   ],
   "source": [
    "l2"
   ]
  },
  {
   "cell_type": "code",
   "execution_count": 92,
   "id": "6e27f455",
   "metadata": {},
   "outputs": [],
   "source": [
    "l5=[\"pwskills\",\"collegewallah\",\"sudh\",\"python\"]"
   ]
  },
  {
   "cell_type": "code",
   "execution_count": 93,
   "id": "000677ed",
   "metadata": {},
   "outputs": [],
   "source": [
    "l5.sort()"
   ]
  },
  {
   "cell_type": "code",
   "execution_count": 94,
   "id": "ac453884",
   "metadata": {},
   "outputs": [
    {
     "data": {
      "text/plain": [
       "['collegewallah', 'pwskills', 'python', 'sudh']"
      ]
     },
     "execution_count": 94,
     "metadata": {},
     "output_type": "execute_result"
    }
   ],
   "source": [
    "l5"
   ]
  },
  {
   "cell_type": "code",
   "execution_count": 95,
   "id": "05da395a",
   "metadata": {},
   "outputs": [],
   "source": [
    "l5.sort(reverse=True)"
   ]
  },
  {
   "cell_type": "code",
   "execution_count": 96,
   "id": "4fa38a34",
   "metadata": {},
   "outputs": [
    {
     "data": {
      "text/plain": [
       "['sudh', 'python', 'pwskills', 'collegewallah']"
      ]
     },
     "execution_count": 96,
     "metadata": {},
     "output_type": "execute_result"
    }
   ],
   "source": [
    "l5"
   ]
  },
  {
   "cell_type": "code",
   "execution_count": 97,
   "id": "139354ec",
   "metadata": {},
   "outputs": [
    {
     "data": {
      "text/plain": [
       "[3, 4, 5, 6]"
      ]
     },
     "execution_count": 97,
     "metadata": {},
     "output_type": "execute_result"
    }
   ],
   "source": [
    "l1"
   ]
  },
  {
   "cell_type": "code",
   "execution_count": 98,
   "id": "420f7960",
   "metadata": {},
   "outputs": [
    {
     "data": {
      "text/plain": [
       "['sudh', 353, 'audh', 'abc', 'zrt', 'pwskills', 45]"
      ]
     },
     "execution_count": 98,
     "metadata": {},
     "output_type": "execute_result"
    }
   ],
   "source": [
    "l2"
   ]
  },
  {
   "cell_type": "code",
   "execution_count": 99,
   "id": "8d39b261",
   "metadata": {},
   "outputs": [
    {
     "data": {
      "text/plain": [
       "[True, False]"
      ]
     },
     "execution_count": 99,
     "metadata": {},
     "output_type": "execute_result"
    }
   ],
   "source": [
    "l3"
   ]
  },
  {
   "cell_type": "code",
   "execution_count": 101,
   "id": "37e664be",
   "metadata": {},
   "outputs": [
    {
     "data": {
      "text/plain": [
       "[[3, 4, 5, 6],\n",
       " ['sudh', 353, 'audh', 'abc', 'zrt', 'pwskills', 45],\n",
       " [True, False]]"
      ]
     },
     "execution_count": 101,
     "metadata": {},
     "output_type": "execute_result"
    }
   ],
   "source": [
    "[l1,l2,l3]"
   ]
  },
  {
   "cell_type": "code",
   "execution_count": 102,
   "id": "11e88d68",
   "metadata": {},
   "outputs": [],
   "source": [
    "l4=[l1,l2]"
   ]
  },
  {
   "cell_type": "code",
   "execution_count": 103,
   "id": "fa010480",
   "metadata": {},
   "outputs": [
    {
     "data": {
      "text/plain": [
       "[[3, 4, 5, 6], ['sudh', 353, 'audh', 'abc', 'zrt', 'pwskills', 45]]"
      ]
     },
     "execution_count": 103,
     "metadata": {},
     "output_type": "execute_result"
    }
   ],
   "source": [
    "l4"
   ]
  },
  {
   "cell_type": "code",
   "execution_count": 104,
   "id": "47da5815",
   "metadata": {},
   "outputs": [
    {
     "data": {
      "text/plain": [
       "2"
      ]
     },
     "execution_count": 104,
     "metadata": {},
     "output_type": "execute_result"
    }
   ],
   "source": [
    "len(l4)"
   ]
  },
  {
   "cell_type": "code",
   "execution_count": 105,
   "id": "38c4399a",
   "metadata": {},
   "outputs": [],
   "source": [
    "l5=[l1,l2,l3,\"sudh\",56,45,45.45,True,5+7j]"
   ]
  },
  {
   "cell_type": "code",
   "execution_count": 106,
   "id": "058f28a4",
   "metadata": {},
   "outputs": [
    {
     "data": {
      "text/plain": [
       "[[3, 4, 5, 6],\n",
       " ['sudh', 353, 'audh', 'abc', 'zrt', 'pwskills', 45],\n",
       " [True, False],\n",
       " 'sudh',\n",
       " 56,\n",
       " 45,\n",
       " 45.45,\n",
       " True,\n",
       " (5+7j)]"
      ]
     },
     "execution_count": 106,
     "metadata": {},
     "output_type": "execute_result"
    }
   ],
   "source": [
    "l5"
   ]
  },
  {
   "cell_type": "code",
   "execution_count": 107,
   "id": "31f58df8",
   "metadata": {},
   "outputs": [
    {
     "data": {
      "text/plain": [
       "'audh'"
      ]
     },
     "execution_count": 107,
     "metadata": {},
     "output_type": "execute_result"
    }
   ],
   "source": [
    "l5[1][2]"
   ]
  },
  {
   "cell_type": "code",
   "execution_count": 108,
   "id": "f2493f3b",
   "metadata": {},
   "outputs": [
    {
     "data": {
      "text/plain": [
       "'d'"
      ]
     },
     "execution_count": 108,
     "metadata": {},
     "output_type": "execute_result"
    }
   ],
   "source": [
    "l5[3][2]"
   ]
  },
  {
   "cell_type": "code",
   "execution_count": null,
   "id": "a87031ef",
   "metadata": {},
   "outputs": [],
   "source": []
  }
 ],
 "metadata": {
  "kernelspec": {
   "display_name": "Python 3 (ipykernel)",
   "language": "python",
   "name": "python3"
  },
  "language_info": {
   "codemirror_mode": {
    "name": "ipython",
    "version": 3
   },
   "file_extension": ".py",
   "mimetype": "text/x-python",
   "name": "python",
   "nbconvert_exporter": "python",
   "pygments_lexer": "ipython3",
   "version": "3.10.9"
  }
 },
 "nbformat": 4,
 "nbformat_minor": 5
}
