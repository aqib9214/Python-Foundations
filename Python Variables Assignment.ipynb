{
 "cells": [
  {
   "cell_type": "markdown",
   "id": "d9d906d1",
   "metadata": {},
   "source": [
    "Q1. Write all the conventions being followed while declaring a variable."
   ]
  },
  {
   "cell_type": "markdown",
   "id": "063a9744",
   "metadata": {},
   "source": [
    "1.Use meaningful names\n",
    "2.Use camelCase or snake_case\n",
    "In camelCase, the first letter of the variable is lowercase, and each subsequent word within the variable starts with an uppercase letter, without any spaces or underscores.\n",
    "In snake_case, all letters are lowercase, and words within the variable are separated by underscores.\n",
    "3.Avoid reserved keywords\n",
    "4.Start with a letter or underscore"
   ]
  },
  {
   "cell_type": "markdown",
   "id": "a88f2a9c",
   "metadata": {},
   "source": [
    "Q2. What will happen if we declare a restricted keyword as a variable?"
   ]
  },
  {
   "cell_type": "markdown",
   "id": "f956c6a6",
   "metadata": {},
   "source": [
    "When you try to use a restricted keyword as a variable name, the compiler or interpreter will recognize it as an illegal or invalid identifier and raise an error. The specific error message may vary depending on the programming language you are using, but it will typically indicate that you cannot use a reserved keyword as a variable name."
   ]
  },
  {
   "cell_type": "markdown",
   "id": "b4936745",
   "metadata": {},
   "source": [
    "Q3. Can we actually declare a string as a variable name?"
   ]
  },
  {
   "cell_type": "markdown",
   "id": "e287004f",
   "metadata": {},
   "source": [
    "No, you cannot directly declare a string as a variable name."
   ]
  },
  {
   "cell_type": "markdown",
   "id": "40c64ce4",
   "metadata": {},
   "source": [
    "Q4. Is it possible for us to declare “_” as a variable? If so, then write an example of it."
   ]
  },
  {
   "cell_type": "code",
   "execution_count": 3,
   "id": "2584760f",
   "metadata": {},
   "outputs": [
    {
     "name": "stdout",
     "output_type": "stream",
     "text": [
      "aaqib\n"
     ]
    }
   ],
   "source": [
    "_=\"aaqib\"\n",
    "print(_)"
   ]
  },
  {
   "cell_type": "markdown",
   "id": "4ea715cf",
   "metadata": {},
   "source": [
    "Q5. Using an example, explain how the variables in python are dynamic in nature."
   ]
  },
  {
   "cell_type": "markdown",
   "id": "212dd2b1",
   "metadata": {},
   "source": [
    "In Python, variables are dynamic in nature, which means they can be assigned values of different types and can be reassigned to different values during runtime. This flexibility allows Python to be a dynamically-typed language."
   ]
  },
  {
   "cell_type": "code",
   "execution_count": 5,
   "id": "858a8953",
   "metadata": {},
   "outputs": [
    {
     "name": "stdout",
     "output_type": "stream",
     "text": [
      "8\n",
      "Hello, World!\n",
      "[1, 2, 3]\n"
     ]
    }
   ],
   "source": [
    "var=8\n",
    "print(var)\n",
    "var=\"Hello, World!\"\n",
    "print(var)\n",
    "var=[1,2,3]\n",
    "print(var)"
   ]
  },
  {
   "cell_type": "code",
   "execution_count": 6,
   "id": "1eba8379",
   "metadata": {},
   "outputs": [
    {
     "data": {
      "text/plain": [
       "[1, 2, 3]"
      ]
     },
     "execution_count": 6,
     "metadata": {},
     "output_type": "execute_result"
    }
   ],
   "source": [
    "var #output: the updated value that is assigned to the variable"
   ]
  },
  {
   "cell_type": "code",
   "execution_count": null,
   "id": "16b28f3e",
   "metadata": {},
   "outputs": [],
   "source": []
  }
 ],
 "metadata": {
  "kernelspec": {
   "display_name": "Python 3 (ipykernel)",
   "language": "python",
   "name": "python3"
  },
  "language_info": {
   "codemirror_mode": {
    "name": "ipython",
    "version": 3
   },
   "file_extension": ".py",
   "mimetype": "text/x-python",
   "name": "python",
   "nbconvert_exporter": "python",
   "pygments_lexer": "ipython3",
   "version": "3.10.9"
  }
 },
 "nbformat": 4,
 "nbformat_minor": 5
}
