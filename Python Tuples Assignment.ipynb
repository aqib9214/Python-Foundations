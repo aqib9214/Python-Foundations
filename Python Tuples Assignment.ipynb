{
 "cells": [
  {
   "cell_type": "markdown",
   "id": "93c4c466",
   "metadata": {},
   "source": [
    "Q1. What is a tuple in Python?"
   ]
  },
  {
   "cell_type": "markdown",
   "id": "9338f5d7",
   "metadata": {},
   "source": [
    "a tuple is an ordered, immutable collection of objects. "
   ]
  },
  {
   "cell_type": "markdown",
   "id": "6b36ba0f",
   "metadata": {},
   "source": [
    "Q2. How do you create a tuple in Python?"
   ]
  },
  {
   "cell_type": "code",
   "execution_count": 1,
   "id": "a9eef354",
   "metadata": {},
   "outputs": [],
   "source": [
    "t=()"
   ]
  },
  {
   "cell_type": "code",
   "execution_count": 2,
   "id": "c55927e0",
   "metadata": {},
   "outputs": [
    {
     "data": {
      "text/plain": [
       "tuple"
      ]
     },
     "execution_count": 2,
     "metadata": {},
     "output_type": "execute_result"
    }
   ],
   "source": [
    "type(t)"
   ]
  },
  {
   "cell_type": "markdown",
   "id": "d3faf584",
   "metadata": {},
   "source": [
    "Q3. What is the difference between a tuple and a list in Python?"
   ]
  },
  {
   "cell_type": "code",
   "execution_count": 3,
   "id": "78394e0e",
   "metadata": {},
   "outputs": [],
   "source": [
    "t=(1,2,3)"
   ]
  },
  {
   "cell_type": "code",
   "execution_count": 4,
   "id": "5e78e6b6",
   "metadata": {},
   "outputs": [],
   "source": [
    "l=[1,2,3]"
   ]
  },
  {
   "cell_type": "code",
   "execution_count": 5,
   "id": "91386a67",
   "metadata": {},
   "outputs": [
    {
     "data": {
      "text/plain": [
       "1"
      ]
     },
     "execution_count": 5,
     "metadata": {},
     "output_type": "execute_result"
    }
   ],
   "source": [
    "t[0]"
   ]
  },
  {
   "cell_type": "code",
   "execution_count": 6,
   "id": "2b5bdbf9",
   "metadata": {},
   "outputs": [
    {
     "data": {
      "text/plain": [
       "1"
      ]
     },
     "execution_count": 6,
     "metadata": {},
     "output_type": "execute_result"
    }
   ],
   "source": [
    "l[0]"
   ]
  },
  {
   "cell_type": "code",
   "execution_count": 7,
   "id": "e41ee1f1",
   "metadata": {},
   "outputs": [
    {
     "ename": "TypeError",
     "evalue": "'tuple' object does not support item assignment",
     "output_type": "error",
     "traceback": [
      "\u001b[1;31m---------------------------------------------------------------------------\u001b[0m",
      "\u001b[1;31mTypeError\u001b[0m                                 Traceback (most recent call last)",
      "Cell \u001b[1;32mIn[7], line 1\u001b[0m\n\u001b[1;32m----> 1\u001b[0m t[\u001b[38;5;241m0\u001b[39m]\u001b[38;5;241m=\u001b[39m\u001b[38;5;241m7\u001b[39m\n",
      "\u001b[1;31mTypeError\u001b[0m: 'tuple' object does not support item assignment"
     ]
    }
   ],
   "source": [
    "t[0]=7"
   ]
  },
  {
   "cell_type": "code",
   "execution_count": 8,
   "id": "dc3ed221",
   "metadata": {},
   "outputs": [],
   "source": [
    "l[0]=7"
   ]
  },
  {
   "cell_type": "code",
   "execution_count": 9,
   "id": "d0a60702",
   "metadata": {},
   "outputs": [
    {
     "data": {
      "text/plain": [
       "[7, 2, 3]"
      ]
     },
     "execution_count": 9,
     "metadata": {},
     "output_type": "execute_result"
    }
   ],
   "source": [
    "l"
   ]
  },
  {
   "cell_type": "code",
   "execution_count": 10,
   "id": "4a38822c",
   "metadata": {},
   "outputs": [
    {
     "ename": "AttributeError",
     "evalue": "'tuple' object has no attribute 'append'",
     "output_type": "error",
     "traceback": [
      "\u001b[1;31m---------------------------------------------------------------------------\u001b[0m",
      "\u001b[1;31mAttributeError\u001b[0m                            Traceback (most recent call last)",
      "Cell \u001b[1;32mIn[10], line 1\u001b[0m\n\u001b[1;32m----> 1\u001b[0m \u001b[43mt\u001b[49m\u001b[38;5;241;43m.\u001b[39;49m\u001b[43mappend\u001b[49m(\u001b[38;5;241m4\u001b[39m)\n",
      "\u001b[1;31mAttributeError\u001b[0m: 'tuple' object has no attribute 'append'"
     ]
    }
   ],
   "source": [
    "t.append(4)"
   ]
  },
  {
   "cell_type": "code",
   "execution_count": 11,
   "id": "c3b18fd7",
   "metadata": {},
   "outputs": [],
   "source": [
    "l.append(4)"
   ]
  },
  {
   "cell_type": "code",
   "execution_count": null,
   "id": "a15a1211",
   "metadata": {},
   "outputs": [],
   "source": []
  },
  {
   "cell_type": "code",
   "execution_count": 12,
   "id": "3a8aa063",
   "metadata": {},
   "outputs": [
    {
     "data": {
      "text/plain": [
       "[7, 2, 3, 4]"
      ]
     },
     "execution_count": 12,
     "metadata": {},
     "output_type": "execute_result"
    }
   ],
   "source": [
    "l"
   ]
  },
  {
   "cell_type": "code",
   "execution_count": 13,
   "id": "00b2ec72",
   "metadata": {},
   "outputs": [
    {
     "data": {
      "text/plain": [
       "(1, 2, 3, 8, 9)"
      ]
     },
     "execution_count": 13,
     "metadata": {},
     "output_type": "execute_result"
    }
   ],
   "source": [
    "t+(8,9)"
   ]
  },
  {
   "cell_type": "code",
   "execution_count": 14,
   "id": "7ad378df",
   "metadata": {},
   "outputs": [
    {
     "data": {
      "text/plain": [
       "[7, 2, 3, 4, 8, 9]"
      ]
     },
     "execution_count": 14,
     "metadata": {},
     "output_type": "execute_result"
    }
   ],
   "source": [
    "l+[8,9]"
   ]
  },
  {
   "cell_type": "markdown",
   "id": "a7034894",
   "metadata": {},
   "source": [
    "Q4. Can a tuple be changed in Python?"
   ]
  },
  {
   "cell_type": "markdown",
   "id": "5565c42f",
   "metadata": {},
   "source": [
    "No, once a tuple is created in Python, it cannot be changed. Tuples are immutable objects, which means their elements cannot be modified, added, or removed after they are created. "
   ]
  },
  {
   "cell_type": "markdown",
   "id": "15d70ad3",
   "metadata": {},
   "source": [
    "Q5. How do you access elements in a tuple?"
   ]
  },
  {
   "cell_type": "markdown",
   "id": "073ab1d9",
   "metadata": {},
   "source": [
    "you can access elements in a tuple by using indexing. "
   ]
  },
  {
   "cell_type": "markdown",
   "id": "f821d4f8",
   "metadata": {},
   "source": [
    "Q6. How do you unpack a tuple in Python?"
   ]
  },
  {
   "cell_type": "markdown",
   "id": "45515c9a",
   "metadata": {},
   "source": [
    "you can unpack a tuple by assigning its elements to individual variables. This is also known as tuple unpacking. "
   ]
  },
  {
   "cell_type": "code",
   "execution_count": 15,
   "id": "90ea8799",
   "metadata": {},
   "outputs": [],
   "source": [
    "t1=(1,2,3,4)"
   ]
  },
  {
   "cell_type": "code",
   "execution_count": 16,
   "id": "e7cc3e6e",
   "metadata": {},
   "outputs": [],
   "source": [
    "a,b,c,d=t1"
   ]
  },
  {
   "cell_type": "code",
   "execution_count": 17,
   "id": "455ac4e1",
   "metadata": {},
   "outputs": [
    {
     "name": "stdout",
     "output_type": "stream",
     "text": [
      "1\n",
      "2\n",
      "3\n",
      "4\n"
     ]
    }
   ],
   "source": [
    "print(a)\n",
    "print(b)\n",
    "print(c)\n",
    "print(d)"
   ]
  },
  {
   "cell_type": "code",
   "execution_count": null,
   "id": "301461e0",
   "metadata": {},
   "outputs": [],
   "source": []
  }
 ],
 "metadata": {
  "kernelspec": {
   "display_name": "Python 3 (ipykernel)",
   "language": "python",
   "name": "python3"
  },
  "language_info": {
   "codemirror_mode": {
    "name": "ipython",
    "version": 3
   },
   "file_extension": ".py",
   "mimetype": "text/x-python",
   "name": "python",
   "nbconvert_exporter": "python",
   "pygments_lexer": "ipython3",
   "version": "3.10.9"
  }
 },
 "nbformat": 4,
 "nbformat_minor": 5
}
